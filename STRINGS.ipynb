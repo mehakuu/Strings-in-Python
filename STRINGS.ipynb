{
  "nbformat": 4,
  "nbformat_minor": 0,
  "metadata": {
    "colab": {
      "provenance": []
    },
    "kernelspec": {
      "name": "python3",
      "display_name": "Python 3"
    },
    "language_info": {
      "name": "python"
    }
  },
  "cells": [
    {
      "cell_type": "code",
      "execution_count": 3,
      "metadata": {
        "colab": {
          "base_uri": "https://localhost:8080/"
        },
        "id": "BUT6pO3I53Cd",
        "outputId": "9da4aad2-141f-4c18-fba8-3027ff3f753c"
      },
      "outputs": [
        {
          "output_type": "stream",
          "name": "stdout",
          "text": [
            "Mehak_Malhotra\n",
            "Mehak\"s\n",
            "Mehak's\n",
            "Mehak\"s\"\n",
            "Mehak's\n",
            "Mehak\"s\n",
            "Mehak\"s and Mehak's\n"
          ]
        }
      ],
      "source": [
        "#QUOTES INSIDE THE QUOTES\n",
        "a='Mehak_Malhotra'\n",
        "print(a)\n",
        "type(a)\n",
        "b='Mehak\"s'\n",
        "print(b)\n",
        "c=\"Mehak's\"\n",
        "print(c)\n",
        "d='''Mehak\"s\"'''\n",
        "print(d)\n",
        "e=\"Mehak's\" #use this if you have single quotes in your string\n",
        "print(e)\n",
        "f='Mehak\"s'\n",
        "print(f)\n",
        "g='''Mehak\"s and Mehak's''' #multi-line string\n",
        "print(g)"
      ]
    },
    {
      "cell_type": "code",
      "source": [
        "name=\"Mehak_Malhotra\"\n",
        "print(name[4]) #printing the 4 character in the string\n",
        "#name[6] #giving the 6 character in the string\n",
        "#name[5]=\"a\" #this does not work as we cannot change the character in the string\n",
        "#print(name[1:10]) #giving the range of characters you want\n",
        "#print(name[:14]) #character starting fro 0 till 14\n",
        "#print(name[1:]) #character strating from 1 till end\n",
        "#name[-14:-1] #reverse indexing moving from right to left"
      ],
      "metadata": {
        "colab": {
          "base_uri": "https://localhost:8080/"
        },
        "id": "0LD5oXZ58zDU",
        "outputId": "6b22d263-5f9c-4d63-a515-bd75ba98de42"
      },
      "execution_count": 9,
      "outputs": [
        {
          "output_type": "stream",
          "name": "stdout",
          "text": [
            "k\n"
          ]
        }
      ]
    },
    {
      "cell_type": "code",
      "source": [
        "name=\"ThankYouForEverthing\"\n",
        "#name[0: :3] #character from 0 till end with increment of 3\n",
        "#name[ : : ] #all characters from 0 till end with increment of 1(whole string)\n",
        "#name[ : :2] #all characters from 0 till end with increment of 2\n",
        "name[ : :-1] #all chacters from reverse or simply reversing a string"
      ],
      "metadata": {
        "colab": {
          "base_uri": "https://localhost:8080/",
          "height": 35
        },
        "id": "jZzJf5lP_PpL",
        "outputId": "eadad6f6-075a-43c7-cb57-4a90beb4d468"
      },
      "execution_count": 13,
      "outputs": [
        {
          "output_type": "execute_result",
          "data": {
            "text/plain": [
              "'gnihtrevEroFuoYknahT'"
            ],
            "application/vnd.google.colaboratory.intrinsic+json": {
              "type": "string"
            }
          },
          "metadata": {},
          "execution_count": 13
        }
      ]
    },
    {
      "cell_type": "code",
      "source": [
        "greeting=\"Good Morning\"\n",
        "name=\"Everyone\"\n",
        "print(type(name))\n",
        "a=greeting+name #concatenating 2 strings\n",
        "print(a)"
      ],
      "metadata": {
        "colab": {
          "base_uri": "https://localhost:8080/"
        },
        "id": "_pe8D67mAzi2",
        "outputId": "7f569acf-ea68-42dd-ffdd-26f160dcf798"
      },
      "execution_count": 14,
      "outputs": [
        {
          "output_type": "stream",
          "name": "stdout",
          "text": [
            "<class 'str'>\n",
            "Good MorningEveryone\n"
          ]
        }
      ]
    },
    {
      "cell_type": "code",
      "source": [
        "story=\"once upon a time there was a course named INT557 which is python course with notes and lectures given by Pradeep\"\n",
        "print(len(story)) #length of the string\n",
        "#print(story.endswith(\"Pradeep\")) #to check wether the string end with pradeep or not\n",
        "#print(story.endswith(\"notes\"))\n",
        "#print(story.count(\"c\")) #to count the number of c in the string\n",
        "#print(story.find(\"upon\")) #to find the position of the given word\n",
        "#print(story.replace(\"python\",\"Data Science with Python\")) #to replace anything in the string\n",
        "#print(story.capitalize()) #to make the first letter of the string capital"
      ],
      "metadata": {
        "colab": {
          "base_uri": "https://localhost:8080/"
        },
        "id": "I7Vhlv4GB4VU",
        "outputId": "aceabf6c-b388-48e6-f024-b00a6c90ac74"
      },
      "execution_count": 25,
      "outputs": [
        {
          "output_type": "stream",
          "name": "stdout",
          "text": [
            "Once upon a time there was a course named int557 which is python course with notes and lectures given by pradeep\n"
          ]
        }
      ]
    },
    {
      "cell_type": "code",
      "source": [
        "string=\"Linuxize\"\n",
        "#print(string[2:6])\n",
        "print(string[-4:-2])"
      ],
      "metadata": {
        "colab": {
          "base_uri": "https://localhost:8080/"
        },
        "id": "nkspXhcSEe-y",
        "outputId": "f43de4e3-3412-4732-e705-a7a9079fda9a"
      },
      "execution_count": 31,
      "outputs": [
        {
          "output_type": "stream",
          "name": "stdout",
          "text": [
            "xi\n"
          ]
        }
      ]
    },
    {
      "cell_type": "code",
      "source": [
        "story=\"Good Morning Everyone.\\n How \\tare y\\\\ou all to\\'day\"\n",
        "print(story) #\\n to go next line \\t to get tab in the string \\\\ to get a slash in the string \\' to get the single quote in the string"
      ],
      "metadata": {
        "colab": {
          "base_uri": "https://localhost:8080/"
        },
        "id": "dJB11nu2GgTh",
        "outputId": "0c9dd39f-39ff-47c0-d9fe-33b5a42e47ea"
      },
      "execution_count": 32,
      "outputs": [
        {
          "output_type": "stream",
          "name": "stdout",
          "text": [
            "Good Morning Everyone.\n",
            " How \tare y\\ou all to'day\n"
          ]
        }
      ]
    },
    {
      "cell_type": "code",
      "source": [
        "name=input(\"Enter your name:\\n\")\n",
        "print(\"Good Morning, \"+name) #to concatenate two strings"
      ],
      "metadata": {
        "colab": {
          "base_uri": "https://localhost:8080/"
        },
        "id": "HvQpSrHFHdrg",
        "outputId": "46a9c7c7-d50d-4f2e-9b67-12ba8d1def17"
      },
      "execution_count": 34,
      "outputs": [
        {
          "output_type": "stream",
          "name": "stdout",
          "text": [
            "Enter your name:\n",
            "Mehak Malhotra\n",
            "Good Morning, Mehak Malhotra\n"
          ]
        }
      ]
    },
    {
      "cell_type": "code",
      "source": [
        "st=\"This is a sting with double  spaces  ok\"\n",
        "st=st.replace(\"  \",\" \") #to replace double space with single space\n",
        "print(st)"
      ],
      "metadata": {
        "colab": {
          "base_uri": "https://localhost:8080/"
        },
        "id": "hueXpsG9Hr22",
        "outputId": "0966f398-6503-467c-f286-357321e15148"
      },
      "execution_count": 35,
      "outputs": [
        {
          "output_type": "stream",
          "name": "stdout",
          "text": [
            "This is a sting with double spaces ok\n"
          ]
        }
      ]
    }
  ]
}